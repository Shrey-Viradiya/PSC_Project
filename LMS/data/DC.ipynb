{
 "cells": [
  {
   "cell_type": "code",
   "execution_count": 1,
   "metadata": {
    "collapsed": true
   },
   "outputs": [],
   "source": [
    "from collections import defaultdict\n",
    "import pandas as pd"
   ]
  },
  {
   "cell_type": "code",
   "execution_count": 2,
   "outputs": [],
   "source": [
    "import csv"
   ],
   "metadata": {
    "collapsed": false,
    "pycharm": {
     "name": "#%%\n"
    }
   }
  },
  {
   "cell_type": "code",
   "execution_count": 3,
   "outputs": [],
   "source": [
    "def getPopularityRanks():\n",
    "    ratings = defaultdict(int)\n",
    "    rankings = defaultdict(int)\n",
    "    with open('../data_small/ratings.csv', newline='\\n') as csvfile:\n",
    "        ratingReader = csv.reader(csvfile)\n",
    "        next(ratingReader)\n",
    "        for row in ratingReader:\n",
    "            ISBN = row[1]\n",
    "            ratings[ISBN] += 1\n",
    "    rank = 1\n",
    "    for bookID, ratingCount in sorted(ratings.items(), key=lambda x: x[1], reverse=True):\n",
    "        rankings[bookID] = rank\n",
    "        rank += 1\n",
    "    return rankings"
   ],
   "metadata": {
    "collapsed": false,
    "pycharm": {
     "name": "#%%\n"
    }
   }
  },
  {
   "cell_type": "code",
   "execution_count": 4,
   "outputs": [],
   "source": [
    "top_books = list(getPopularityRanks().keys())"
   ],
   "metadata": {
    "collapsed": false,
    "pycharm": {
     "name": "#%%\n"
    }
   }
  },
  {
   "cell_type": "code",
   "execution_count": 5,
   "outputs": [],
   "source": [
    "top_books = top_books[:10000]"
   ],
   "metadata": {
    "collapsed": false,
    "pycharm": {
     "name": "#%%\n"
    }
   }
  },
  {
   "cell_type": "code",
   "execution_count": 6,
   "outputs": [
    {
     "name": "stderr",
     "output_type": "stream",
     "text": [
      "/media/shrey/Data/ModernTech/BookRecommendation/BRC/lib/python3.6/site-packages/IPython/core/interactiveshell.py:3063: DtypeWarning: Columns (3) have mixed types.Specify dtype option on import or set low_memory=False.\n",
      "  interactivity=interactivity, compiler=compiler, result=result)\n"
     ]
    }
   ],
   "source": [
    "ratingsDF = pd.read_csv('../data_small/ratings.csv')\n",
    "usersDF = pd.read_csv('../data_small/users.csv')\n",
    "bookDF = pd.read_csv('books.csv')\n"
   ],
   "metadata": {
    "collapsed": false,
    "pycharm": {
     "name": "#%%\n"
    }
   }
  },
  {
   "cell_type": "code",
   "execution_count": 9,
   "outputs": [
    {
     "data": {
      "text/plain": "(9749, 5)"
     },
     "execution_count": 9,
     "metadata": {},
     "output_type": "execute_result"
    }
   ],
   "source": [
    "bookDF.shape"
   ],
   "metadata": {
    "collapsed": false,
    "pycharm": {
     "name": "#%%\n"
    }
   }
  },
  {
   "cell_type": "code",
   "execution_count": 8,
   "outputs": [],
   "source": [
    "bookDF = bookDF[bookDF['ISBN'].isin(top_books)]\n"
   ],
   "metadata": {
    "collapsed": false,
    "pycharm": {
     "name": "#%%\n"
    }
   }
  },
  {
   "cell_type": "code",
   "execution_count": 10,
   "outputs": [],
   "source": [
    "bookDF.to_csv('books.csv',index=False)"
   ],
   "metadata": {
    "collapsed": false,
    "pycharm": {
     "name": "#%%\n"
    }
   }
  },
  {
   "cell_type": "code",
   "execution_count": 4,
   "outputs": [
    {
     "name": "stdout",
     "output_type": "stream",
     "text": [
      "        userID        ISBN  rating\n",
      "0            1  1855494981      10\n",
      "1            1  0807281913       9\n",
      "2            1  0807281751       9\n",
      "3            1  0316358479       8\n",
      "4            1  2203001011       8\n",
      "...        ...         ...     ...\n",
      "931022  276704  0743211383       7\n",
      "931023  276704  080410526X       0\n",
      "931024  276704  0806917695       5\n",
      "931025  276704  0876044011       0\n",
      "931026  276704  1563526298       9\n",
      "\n",
      "[931027 rows x 3 columns]\n"
     ]
    }
   ],
   "source": [
    "print(ratingsDF)"
   ],
   "metadata": {
    "collapsed": false,
    "pycharm": {
     "name": "#%%\n"
    }
   }
  },
  {
   "cell_type": "code",
   "execution_count": 15,
   "outputs": [],
   "source": [
    "ratingsDF = ratingsDF[ratingsDF['ISBN'].isin(top_books)]"
   ],
   "metadata": {
    "collapsed": false,
    "pycharm": {
     "name": "#%%\n"
    }
   }
  },
  {
   "cell_type": "code",
   "execution_count": 16,
   "outputs": [
    {
     "name": "stdout",
     "output_type": "stream",
     "text": [
      "     userID  ISBN  rating\n",
      "0     11676  3988    3988\n",
      "1     35859  1872    1872\n",
      "2    153662  1589    1589\n",
      "3     76352  1568    1568\n",
      "4     16795  1230    1230\n",
      "..      ...   ...     ...\n",
      "995  244685    73      73\n",
      "996  119517    73      73\n",
      "997  152946    73      73\n",
      "998  180032    73      73\n",
      "999  138602    73      73\n",
      "\n",
      "[1000 rows x 3 columns]\n"
     ]
    }
   ],
   "source": [
    "temp = ratingsDF.groupby('userID').agg('count')\n",
    "temp = temp.sort_values(by=['ISBN'],ascending=False)\n",
    "temp = temp.head(1000).reset_index()\n",
    "print(temp)"
   ],
   "metadata": {
    "collapsed": false,
    "pycharm": {
     "name": "#%%\n"
    }
   }
  },
  {
   "cell_type": "code",
   "execution_count": 17,
   "outputs": [],
   "source": [
    "usrs = list(temp['userID'])\n"
   ],
   "metadata": {
    "collapsed": false,
    "pycharm": {
     "name": "#%%\n"
    }
   }
  },
  {
   "cell_type": "code",
   "execution_count": 18,
   "outputs": [
    {
     "name": "stdout",
     "output_type": "stream",
     "text": [
      "[11676, 35859, 153662, 76352, 16795, 198711, 102967, 204864, 78783, 55492, 227447, 230522, 232131, 60244, 175003, 52584, 234623, 185233, 135149, 235105, 73394, 212898, 23768, 269566, 95359, 190925, 69697, 238120, 43246, 196077, 98391, 31315, 148744, 110973, 123981, 162639, 226545, 278418, 129358, 36606, 98741, 115120, 265115, 231210, 166123, 236283, 104636, 225810, 217375, 158295, 11601, 21014, 166596, 245963, 113519, 228998, 238781, 130474, 26544, 242824, 87141, 114414, 200226, 182085, 265313, 7346, 254465, 172742, 13552, 211426, 87555, 127233, 36836, 195694, 35050, 274308, 56856, 156150, 43842, 35857, 228764, 6575, 124942, 78834, 184299, 12538, 262399, 225087, 106225, 224764, 6251, 114368, 159033, 174304, 257204, 131046, 224349, 234828, 200674, 177458, 68555, 170518, 275970, 157273, 16634, 187145, 145451, 31556, 271284, 40943, 87746, 144531, 171118, 147847, 135045, 266226, 39646, 142524, 261829, 14521, 258185, 110912, 37950, 115490, 127359, 3363, 88733, 127429, 252695, 245827, 56447, 227520, 172030, 107784, 246655, 55548, 77940, 146113, 265889, 128835, 225763, 258534, 247447, 178667, 28204, 251613, 256407, 105979, 221445, 130571, 89602, 76626, 69232, 53174, 189334, 32773, 167800, 100906, 252071, 113270, 210485, 268330, 59172, 150968, 124487, 206534, 173415, 114988, 274061, 112001, 69042, 46398, 145619, 143253, 32195, 112026, 127200, 56959, 14422, 38023, 219546, 255489, 214786, 52853, 15408, 61619, 101876, 29259, 104665, 123883, 186570, 112881, 49109, 81492, 277427, 51450, 165308, 251422, 40889, 235392, 30533, 208829, 141710, 167349, 30972, 203968, 69355, 125692, 203240, 52614, 78973, 76942, 114868, 266056, 133747, 224138, 13273, 273979, 24921, 187517, 93047, 25981, 242006, 51883, 264321, 190708, 125774, 270713, 136205, 100846, 140000, 88693, 48494, 37712, 16916, 143175, 143415, 91832, 240144, 194669, 269719, 30276, 209373, 213350, 209756, 17950, 236757, 236340, 260897, 125039, 136382, 201526, 7158, 163804, 126736, 162738, 241548, 228681, 129716, 242106, 241980, 242299, 179733, 180651, 212923, 235842, 101209, 263877, 167471, 107021, 79186, 227705, 168064, 116599, 44728, 105517, 235935, 119575, 205735, 102647, 177072, 70052, 156269, 258152, 181176, 69971, 206567, 208406, 170575, 135831, 6543, 247752, 39281, 36609, 75860, 165319, 29855, 67840, 230496, 141493, 95932, 163973, 266865, 268110, 222296, 268032, 216683, 169233, 55734, 160819, 122793, 234359, 126492, 256167, 236172, 229011, 197775, 193499, 23902, 84024, 232945, 33974, 135458, 208671, 250764, 138844, 8936, 250184, 187256, 218552, 25409, 77809, 69078, 50225, 85701, 76151, 94347, 259629, 129074, 264317, 208147, 177090, 93363, 172512, 82893, 274004, 254971, 264031, 226879, 31826, 249628, 244688, 108285, 85426, 155147, 181687, 138441, 170513, 251394, 194600, 93085, 123790, 189835, 32440, 136010, 211919, 149908, 182993, 177374, 204591, 223087, 229551, 248718, 201674, 110934, 100459, 56399, 39616, 196160, 43619, 188010, 6563, 137589, 231237, 201290, 62272, 64436, 197659, 263460, 271448, 108005, 114444, 86202, 217121, 205473, 149934, 111174, 169699, 145449, 128696, 51350, 10447, 63938, 102275, 146348, 203799, 170229, 63394, 66680, 110029, 243077, 161752, 30711, 30487, 76818, 251844, 26535, 238526, 78553, 85656, 251843, 153718, 263163, 229741, 75591, 85526, 152249, 142093, 168245, 20115, 185384, 244736, 30273, 159858, 177432, 85757, 155219, 224430, 88937, 189516, 230708, 244349, 155014, 190459, 150979, 83637, 69405, 127914, 16106, 241666, 140358, 210792, 111947, 115003, 150124, 136252, 8245, 207499, 242361, 85993, 125519, 216466, 147141, 128208, 81977, 233911, 136348, 225989, 238557, 82831, 271705, 117251, 224435, 235282, 242083, 70415, 164027, 197364, 254, 124363, 180348, 102702, 22625, 113904, 239584, 147965, 122429, 133689, 254899, 139742, 41084, 159376, 51094, 98787, 59971, 131837, 93629, 174216, 273113, 196466, 134247, 231857, 141444, 223154, 213150, 246513, 53220, 249862, 80538, 193898, 226965, 7915, 156467, 180957, 220278, 60277, 143792, 242646, 145431, 131402, 163570, 229313, 196047, 62891, 245410, 270820, 218608, 41841, 94923, 134797, 4017, 202277, 2276, 137688, 198699, 62862, 133296, 207349, 39773, 62895, 129008, 107301, 268030, 81848, 271195, 170184, 253821, 209516, 110483, 164323, 264082, 246311, 133571, 217318, 201017, 246156, 91931, 43806, 81045, 8067, 120093, 178199, 96054, 258938, 18067, 52917, 249894, 62881, 169663, 274301, 269890, 180586, 56554, 225986, 268932, 28523, 239594, 147451, 47316, 201768, 142121, 71712, 173291, 8253, 196738, 236959, 177690, 6323, 210959, 31391, 31846, 252848, 73651, 162052, 12982, 268622, 19664, 267635, 255218, 145641, 92810, 146175, 126693, 52199, 273086, 91342, 124489, 30735, 260944, 59150, 76499, 168144, 8681, 127826, 91113, 212645, 182086, 62755, 219683, 10314, 28634, 238545, 114544, 201447, 205980, 129465, 128085, 2766, 244171, 91203, 81560, 211430, 240567, 55187, 55490, 204522, 101305, 48046, 267033, 178181, 240035, 81597, 138543, 149069, 9856, 73196, 60707, 175052, 86243, 147224, 238864, 152354, 234597, 151589, 184513, 187170, 149084, 206074, 43910, 247055, 154992, 213126, 21659, 98758, 59390, 189973, 192093, 23872, 105374, 258690, 27472, 230249, 41781, 195469, 100644, 30511, 222941, 50730, 252820, 208141, 88283, 196457, 15418, 231827, 82926, 13582, 95316, 245645, 179718, 158254, 93426, 152186, 120908, 83287, 178522, 207246, 9417, 174092, 135265, 36907, 216012, 138198, 250962, 36715, 80683, 264543, 138097, 55892, 55858, 178240, 151107, 141901, 182746, 31919, 207721, 10819, 190741, 45557, 238699, 207782, 117111, 50895, 131027, 5903, 146803, 126604, 242073, 86189, 182053, 240568, 8487, 73681, 179978, 156214, 88793, 107453, 104211, 38781, 208568, 123095, 11993, 236058, 78448, 51386, 8284, 129084, 183995, 19085, 106007, 179730, 35836, 191187, 218121, 259260, 109955, 98904, 7125, 193676, 244627, 80810, 89014, 157247, 144555, 27462, 80945, 259035, 224809, 136139, 276680, 173481, 70594, 108352, 107244, 6242, 251140, 77480, 120090, 24194, 27617, 124079, 223501, 274808, 26593, 26883, 244420, 59727, 68185, 245371, 49460, 238541, 136473, 210717, 42914, 271538, 76223, 259380, 270554, 48025, 183196, 212965, 207148, 182442, 115002, 183046, 201641, 33818, 55493, 154469, 266753, 211344, 101851, 108405, 9747, 246507, 251642, 130438, 170634, 55927, 29209, 95991, 263325, 170415, 111847, 142256, 266866, 36003, 210035, 246671, 224646, 233711, 132083, 176667, 256402, 198621, 174791, 28591, 59038, 9908, 198046, 95903, 82407, 233917, 218568, 29526, 32721, 146230, 182987, 16966, 224249, 148258, 171078, 267409, 222050, 129851, 160735, 174726, 261105, 59269, 130426, 49154, 237748, 260183, 52002, 246000, 266807, 60569, 109901, 217740, 176902, 8362, 66942, 156300, 21576, 115435, 164828, 81682, 173684, 99955, 241614, 124078, 46909, 49422, 37538, 53456, 59189, 139913, 20201, 226205, 220688, 170947, 172061, 155495, 2891, 273110, 16155, 97754, 92979, 44845, 105937, 164675, 65258, 151537, 124597, 109574, 161974, 34300, 21031, 151790, 162590, 104399, 150561, 140036, 27647, 38273, 53729, 181223, 250405, 199515, 21364, 257028, 141491, 56271, 196985, 252865, 108799, 93179, 132173, 53628, 127129, 179772, 139141, 117594, 153513, 223201, 204813, 23511, 168036, 266283, 199416, 206944, 20060, 158226, 37567, 41455, 269321, 168387, 264637, 161037, 8454, 30824, 193458, 254206, 238065, 30716, 201684, 81368, 185176, 271558, 150498, 245649, 220597, 65584, 88677, 244277, 26516, 92547, 23680, 204359, 51526, 95173, 123430, 3371, 149690, 192176, 126296, 160558, 158433, 98723, 179744, 262998, 43687, 87712, 21404, 263344, 170861, 507, 56307, 200643, 37644, 243930, 184424, 249723, 76483, 259901, 110373, 244685, 119517, 152946, 180032, 138602]\n"
     ]
    }
   ],
   "source": [
    "print(usrs)"
   ],
   "metadata": {
    "collapsed": false,
    "pycharm": {
     "name": "#%%\n"
    }
   }
  },
  {
   "cell_type": "code",
   "execution_count": 19,
   "outputs": [],
   "source": [
    "ratingsDF = ratingsDF[ratingsDF['userID'].isin(usrs)]"
   ],
   "metadata": {
    "collapsed": false,
    "pycharm": {
     "name": "#%%\n"
    }
   }
  },
  {
   "cell_type": "code",
   "execution_count": 20,
   "outputs": [
    {
     "data": {
      "text/plain": "        userID        ISBN  rating\n970     277427  002542730X      10\n974     277427  0060002050       0\n978     277427  0060192704       0\n979     277427  0060542128       7\n980     277427  0060913509       0\n...        ...         ...     ...\n930894  276680  1573222038      10\n930895  276680  1573222267       0\n930896  276680  1573229083       7\n930897  276680  1573229865       0\n930904  276680  1931561648       9\n\n[203536 rows x 3 columns]",
      "text/html": "<div>\n<style scoped>\n    .dataframe tbody tr th:only-of-type {\n        vertical-align: middle;\n    }\n\n    .dataframe tbody tr th {\n        vertical-align: top;\n    }\n\n    .dataframe thead th {\n        text-align: right;\n    }\n</style>\n<table border=\"1\" class=\"dataframe\">\n  <thead>\n    <tr style=\"text-align: right;\">\n      <th></th>\n      <th>userID</th>\n      <th>ISBN</th>\n      <th>rating</th>\n    </tr>\n  </thead>\n  <tbody>\n    <tr>\n      <th>970</th>\n      <td>277427</td>\n      <td>002542730X</td>\n      <td>10</td>\n    </tr>\n    <tr>\n      <th>974</th>\n      <td>277427</td>\n      <td>0060002050</td>\n      <td>0</td>\n    </tr>\n    <tr>\n      <th>978</th>\n      <td>277427</td>\n      <td>0060192704</td>\n      <td>0</td>\n    </tr>\n    <tr>\n      <th>979</th>\n      <td>277427</td>\n      <td>0060542128</td>\n      <td>7</td>\n    </tr>\n    <tr>\n      <th>980</th>\n      <td>277427</td>\n      <td>0060913509</td>\n      <td>0</td>\n    </tr>\n    <tr>\n      <th>...</th>\n      <td>...</td>\n      <td>...</td>\n      <td>...</td>\n    </tr>\n    <tr>\n      <th>930894</th>\n      <td>276680</td>\n      <td>1573222038</td>\n      <td>10</td>\n    </tr>\n    <tr>\n      <th>930895</th>\n      <td>276680</td>\n      <td>1573222267</td>\n      <td>0</td>\n    </tr>\n    <tr>\n      <th>930896</th>\n      <td>276680</td>\n      <td>1573229083</td>\n      <td>7</td>\n    </tr>\n    <tr>\n      <th>930897</th>\n      <td>276680</td>\n      <td>1573229865</td>\n      <td>0</td>\n    </tr>\n    <tr>\n      <th>930904</th>\n      <td>276680</td>\n      <td>1931561648</td>\n      <td>9</td>\n    </tr>\n  </tbody>\n</table>\n<p>203536 rows × 3 columns</p>\n</div>"
     },
     "execution_count": 20,
     "metadata": {},
     "output_type": "execute_result"
    }
   ],
   "source": [
    "ratingsDF"
   ],
   "metadata": {
    "collapsed": false,
    "pycharm": {
     "name": "#%%\n"
    }
   }
  },
  {
   "cell_type": "code",
   "execution_count": 21,
   "outputs": [],
   "source": [
    "ratingsDF.to_csv('ratings.csv',index = False)"
   ],
   "metadata": {
    "collapsed": false,
    "pycharm": {
     "name": "#%%\n"
    }
   }
  },
  {
   "cell_type": "code",
   "execution_count": 22,
   "outputs": [],
   "source": [
    "del usersDF['id']"
   ],
   "metadata": {
    "collapsed": false,
    "pycharm": {
     "name": "#%%\n"
    }
   }
  },
  {
   "cell_type": "code",
   "execution_count": 23,
   "outputs": [
    {
     "data": {
      "text/plain": "      User-ID                              Location   Age\n0           8              timmins, ontario, canada   NaN\n1         183                porto, porto, portugal  27.0\n2         242  neuffen, baden-wuerttemberg, germany  37.0\n3         243           arden hills, minnesota, usa   NaN\n4         254           minneapolis, minnesota, usa  24.0\n...       ...                                   ...   ...\n9995   278582               slidell, louisiana, usa   NaN\n9996   278633                      sandy, utah, usa   NaN\n9997   278637            strasbourg, alsace, france   NaN\n9998   278843          pismo beach, california, usa  28.0\n9999   278851                    dallas, texas, usa  33.0\n\n[10000 rows x 3 columns]",
      "text/html": "<div>\n<style scoped>\n    .dataframe tbody tr th:only-of-type {\n        vertical-align: middle;\n    }\n\n    .dataframe tbody tr th {\n        vertical-align: top;\n    }\n\n    .dataframe thead th {\n        text-align: right;\n    }\n</style>\n<table border=\"1\" class=\"dataframe\">\n  <thead>\n    <tr style=\"text-align: right;\">\n      <th></th>\n      <th>User-ID</th>\n      <th>Location</th>\n      <th>Age</th>\n    </tr>\n  </thead>\n  <tbody>\n    <tr>\n      <th>0</th>\n      <td>8</td>\n      <td>timmins, ontario, canada</td>\n      <td>NaN</td>\n    </tr>\n    <tr>\n      <th>1</th>\n      <td>183</td>\n      <td>porto, porto, portugal</td>\n      <td>27.0</td>\n    </tr>\n    <tr>\n      <th>2</th>\n      <td>242</td>\n      <td>neuffen, baden-wuerttemberg, germany</td>\n      <td>37.0</td>\n    </tr>\n    <tr>\n      <th>3</th>\n      <td>243</td>\n      <td>arden hills, minnesota, usa</td>\n      <td>NaN</td>\n    </tr>\n    <tr>\n      <th>4</th>\n      <td>254</td>\n      <td>minneapolis, minnesota, usa</td>\n      <td>24.0</td>\n    </tr>\n    <tr>\n      <th>...</th>\n      <td>...</td>\n      <td>...</td>\n      <td>...</td>\n    </tr>\n    <tr>\n      <th>9995</th>\n      <td>278582</td>\n      <td>slidell, louisiana, usa</td>\n      <td>NaN</td>\n    </tr>\n    <tr>\n      <th>9996</th>\n      <td>278633</td>\n      <td>sandy, utah, usa</td>\n      <td>NaN</td>\n    </tr>\n    <tr>\n      <th>9997</th>\n      <td>278637</td>\n      <td>strasbourg, alsace, france</td>\n      <td>NaN</td>\n    </tr>\n    <tr>\n      <th>9998</th>\n      <td>278843</td>\n      <td>pismo beach, california, usa</td>\n      <td>28.0</td>\n    </tr>\n    <tr>\n      <th>9999</th>\n      <td>278851</td>\n      <td>dallas, texas, usa</td>\n      <td>33.0</td>\n    </tr>\n  </tbody>\n</table>\n<p>10000 rows × 3 columns</p>\n</div>"
     },
     "execution_count": 23,
     "metadata": {},
     "output_type": "execute_result"
    }
   ],
   "source": [
    "usersDF"
   ],
   "metadata": {
    "collapsed": false,
    "pycharm": {
     "name": "#%%\n"
    }
   }
  },
  {
   "cell_type": "code",
   "execution_count": 24,
   "outputs": [],
   "source": [
    "temp2 = usersDF[usersDF['User-ID'].isin(usrs)]"
   ],
   "metadata": {
    "collapsed": false,
    "pycharm": {
     "name": "#%%\n"
    }
   }
  },
  {
   "cell_type": "code",
   "execution_count": 25,
   "outputs": [],
   "source": [
    "temp2 = temp2.reset_index()"
   ],
   "metadata": {
    "collapsed": false,
    "pycharm": {
     "name": "#%%\n"
    }
   }
  },
  {
   "cell_type": "code",
   "execution_count": 26,
   "outputs": [],
   "source": [
    "del temp2['index']"
   ],
   "metadata": {
    "collapsed": false,
    "pycharm": {
     "name": "#%%\n"
    }
   }
  },
  {
   "cell_type": "code",
   "execution_count": 27,
   "outputs": [
    {
     "data": {
      "text/plain": "     User-ID                          Location   Age\n0        254       minneapolis, minnesota, usa  24.0\n1        507              dumas, arkansas, usa   NaN\n2       2276          niskayuna, new york, usa  46.0\n3       2766                frisco, texas, usa  42.0\n4       2891            beaverton, oregon, usa   NaN\n..       ...                               ...   ...\n995   274808                paynesville, , usa  17.0\n996   275970     pittsburgh, pennsylvania, usa  46.0\n997   276680  hopewell junction, new york, usa  55.0\n998   277427             gilbert, arizona, usa  48.0\n999   278418              omaha, nebraska, usa   NaN\n\n[1000 rows x 3 columns]",
      "text/html": "<div>\n<style scoped>\n    .dataframe tbody tr th:only-of-type {\n        vertical-align: middle;\n    }\n\n    .dataframe tbody tr th {\n        vertical-align: top;\n    }\n\n    .dataframe thead th {\n        text-align: right;\n    }\n</style>\n<table border=\"1\" class=\"dataframe\">\n  <thead>\n    <tr style=\"text-align: right;\">\n      <th></th>\n      <th>User-ID</th>\n      <th>Location</th>\n      <th>Age</th>\n    </tr>\n  </thead>\n  <tbody>\n    <tr>\n      <th>0</th>\n      <td>254</td>\n      <td>minneapolis, minnesota, usa</td>\n      <td>24.0</td>\n    </tr>\n    <tr>\n      <th>1</th>\n      <td>507</td>\n      <td>dumas, arkansas, usa</td>\n      <td>NaN</td>\n    </tr>\n    <tr>\n      <th>2</th>\n      <td>2276</td>\n      <td>niskayuna, new york, usa</td>\n      <td>46.0</td>\n    </tr>\n    <tr>\n      <th>3</th>\n      <td>2766</td>\n      <td>frisco, texas, usa</td>\n      <td>42.0</td>\n    </tr>\n    <tr>\n      <th>4</th>\n      <td>2891</td>\n      <td>beaverton, oregon, usa</td>\n      <td>NaN</td>\n    </tr>\n    <tr>\n      <th>...</th>\n      <td>...</td>\n      <td>...</td>\n      <td>...</td>\n    </tr>\n    <tr>\n      <th>995</th>\n      <td>274808</td>\n      <td>paynesville, , usa</td>\n      <td>17.0</td>\n    </tr>\n    <tr>\n      <th>996</th>\n      <td>275970</td>\n      <td>pittsburgh, pennsylvania, usa</td>\n      <td>46.0</td>\n    </tr>\n    <tr>\n      <th>997</th>\n      <td>276680</td>\n      <td>hopewell junction, new york, usa</td>\n      <td>55.0</td>\n    </tr>\n    <tr>\n      <th>998</th>\n      <td>277427</td>\n      <td>gilbert, arizona, usa</td>\n      <td>48.0</td>\n    </tr>\n    <tr>\n      <th>999</th>\n      <td>278418</td>\n      <td>omaha, nebraska, usa</td>\n      <td>NaN</td>\n    </tr>\n  </tbody>\n</table>\n<p>1000 rows × 3 columns</p>\n</div>"
     },
     "execution_count": 27,
     "metadata": {},
     "output_type": "execute_result"
    }
   ],
   "source": [
    "temp2"
   ],
   "metadata": {
    "collapsed": false,
    "pycharm": {
     "name": "#%%\n"
    }
   }
  },
  {
   "cell_type": "code",
   "execution_count": 28,
   "outputs": [],
   "source": [
    "temp2.to_csv('users.csv',index = False)"
   ],
   "metadata": {
    "collapsed": false,
    "pycharm": {
     "name": "#%%\n"
    }
   }
  },
  {
   "cell_type": "code",
   "execution_count": null,
   "outputs": [],
   "source": [
    "\n"
   ],
   "metadata": {
    "collapsed": false,
    "pycharm": {
     "name": "#%%\n"
    }
   }
  }
 ],
 "metadata": {
  "kernelspec": {
   "display_name": "Python 3",
   "language": "python",
   "name": "python3"
  },
  "language_info": {
   "codemirror_mode": {
    "name": "ipython",
    "version": 2
   },
   "file_extension": ".py",
   "mimetype": "text/x-python",
   "name": "python",
   "nbconvert_exporter": "python",
   "pygments_lexer": "ipython2",
   "version": "2.7.6"
  }
 },
 "nbformat": 4,
 "nbformat_minor": 0
}