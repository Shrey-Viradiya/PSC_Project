{
 "cells": [
  {
   "cell_type": "code",
   "execution_count": 1,
   "metadata": {
    "pycharm": {
     "is_executing": false
    }
   },
   "outputs": [
    {
     "name": "stdout",
     "output_type": "stream",
     "text": [
      "Requirement already satisfied: textblob in ./venv/lib/python3.6/site-packages (0.15.3)\n",
      "Requirement already satisfied: nltk>=3.1 in ./venv/lib/python3.6/site-packages (from textblob) (3.4.5)\n",
      "Requirement already satisfied: six in ./venv/lib/python3.6/site-packages (from nltk>=3.1->textblob) (1.14.0)\n"
     ]
    }
   ],
   "source": [
    "!pip3 install textblob\n"
   ]
  },
  {
   "cell_type": "code",
   "execution_count": 2,
   "metadata": {
    "pycharm": {
     "is_executing": false
    }
   },
   "outputs": [],
   "source": [
    "from textblob import TextBlob\n",
    "\n",
    "analysis = TextBlob(\"The book was very good!\")"
   ]
  },
  {
   "cell_type": "code",
   "execution_count": 3,
   "metadata": {
    "pycharm": {
     "is_executing": false
    }
   },
   "outputs": [
    {
     "name": "stdout",
     "output_type": "stream",
     "text": [
      "['__add__', '__class__', '__contains__', '__delattr__', '__dict__', '__dir__', '__doc__', '__eq__', '__format__', '__ge__', '__getattribute__', '__getitem__', '__gt__', '__hash__', '__init__', '__init_subclass__', '__iter__', '__le__', '__len__', '__lt__', '__module__', '__ne__', '__new__', '__reduce__', '__reduce_ex__', '__repr__', '__setattr__', '__sizeof__', '__str__', '__subclasshook__', '__weakref__', '_cmpkey', '_compare', '_create_sentence_objects', '_strkey', 'analyzer', 'classifier', 'classify', 'correct', 'detect_language', 'ends_with', 'endswith', 'find', 'format', 'index', 'join', 'json', 'lower', 'ngrams', 'noun_phrases', 'np_counts', 'np_extractor', 'parse', 'parser', 'polarity', 'pos_tagger', 'pos_tags', 'raw', 'raw_sentences', 'replace', 'rfind', 'rindex', 'sentences', 'sentiment', 'sentiment_assessments', 'serialized', 'split', 'starts_with', 'startswith', 'string', 'strip', 'stripped', 'subjectivity', 'tags', 'title', 'to_json', 'tokenize', 'tokenizer', 'tokens', 'translate', 'translator', 'upper', 'word_counts', 'words']\n"
     ]
    }
   ],
   "source": [
    "print(dir(analysis))"
   ]
  },
  {
   "cell_type": "code",
   "execution_count": 4,
   "metadata": {
    "pycharm": {
     "is_executing": false
    }
   },
   "outputs": [
    {
     "name": "stdout",
     "output_type": "stream",
     "text": [
      "¡El libro fue muy bueno!\n"
     ]
    }
   ],
   "source": [
    "print(analysis.translate(to='es'))"
   ]
  },
  {
   "cell_type": "markdown",
   "metadata": {},
   "source": [
    "#### These are parts of speech. Since TextBlob is built on top of NLTK, the part of speech tags are the same."
   ]
  },
  {
   "cell_type": "code",
   "execution_count": 5,
   "metadata": {
    "pycharm": {
     "is_executing": false
    }
   },
   "outputs": [
    {
     "name": "stdout",
     "output_type": "stream",
     "text": [
      "[('The', 'DT'), ('book', 'NN'), ('was', 'VBD'), ('very', 'RB'), ('good', 'JJ')]\n"
     ]
    }
   ],
   "source": [
    "print(analysis.tags)"
   ]
  },
  {
   "cell_type": "code",
   "execution_count": 6,
   "metadata": {
    "pycharm": {
     "is_executing": false
    }
   },
   "outputs": [
    {
     "name": "stdout",
     "output_type": "stream",
     "text": [
      "Sentiment(polarity=1.0, subjectivity=0.7800000000000001)\n"
     ]
    }
   ],
   "source": [
    "print(analysis.sentiment)"
   ]
  },
  {
   "cell_type": "code",
   "execution_count": 7,
   "metadata": {
    "pycharm": {
     "is_executing": false
    }
   },
   "outputs": [
    {
     "name": "stdout",
     "output_type": "stream",
     "text": [
      "Positive accuracy = 71.11777944486121% via 5332 samples\n",
      "Negative accuracy = 55.8702175543886% via 5332 samples\n"
     ]
    }
   ],
   "source": [
    "from textblob import TextBlob\n",
    "\n",
    "pos_count = 0\n",
    "pos_correct = 0\n",
    "\n",
    "with open(\"positive.txt\",\"r\") as f:\n",
    "    for line in f.read().split('\\n'):\n",
    "        analysis = TextBlob(line)\n",
    "        if analysis.sentiment.polarity > 0:\n",
    "            pos_correct += 1\n",
    "        pos_count +=1\n",
    "\n",
    "\n",
    "neg_count = 0\n",
    "neg_correct = 0\n",
    "\n",
    "with open(\"negative.txt\",\"r\") as f:\n",
    "    for line in f.read().split('\\n'):\n",
    "        analysis = TextBlob(line)\n",
    "        if analysis.sentiment.polarity <= 0:\n",
    "            neg_correct += 1\n",
    "        neg_count +=1\n",
    "\n",
    "print(\"Positive accuracy = {}% via {} samples\".format(pos_correct/pos_count*100.0, pos_count))\n",
    "print(\"Negative accuracy = {}% via {} samples\".format(neg_correct/neg_count*100.0, neg_count))"
   ]
  },
  {
   "cell_type": "markdown",
   "metadata": {},
   "source": [
    "### It looks like our positive accuracy is decent, but the negative sentiment accuracy isn't all that good. It could be the case that this classifier is biased across the board, so our \"zero\" could be moved a bit, let's say 0.2, so we change: \n",
    "#### if analysis.sentiment.polarity > 0.2: pos_correct += 1\n",
    "#### if analysis.sentiment.polarity < 0.2: neg_correct += 1"
   ]
  },
  {
   "cell_type": "code",
   "execution_count": 8,
   "metadata": {
    "pycharm": {
     "is_executing": false
    }
   },
   "outputs": [
    {
     "name": "stdout",
     "output_type": "stream",
     "text": [
      "Positive accuracy = 46.17404351087772% via 5332 samples\n",
      "Negative accuracy = 80.1012753188297% via 5332 samples\n"
     ]
    }
   ],
   "source": [
    "from textblob import TextBlob\n",
    "\n",
    "pos_count = 0\n",
    "pos_correct = 0\n",
    "\n",
    "with open(\"positive.txt\",\"r\") as f:\n",
    "    for line in f.read().split('\\n'):\n",
    "        analysis = TextBlob(line)\n",
    "        if analysis.sentiment.polarity > 0.2:\n",
    "            pos_correct += 1\n",
    "        pos_count +=1\n",
    "\n",
    "\n",
    "neg_count = 0\n",
    "neg_correct = 0\n",
    "\n",
    "with open(\"negative.txt\",\"r\") as f:\n",
    "    for line in f.read().split('\\n'):\n",
    "        analysis = TextBlob(line)\n",
    "        if analysis.sentiment.polarity <= 0.2:\n",
    "            neg_correct += 1\n",
    "        neg_count +=1\n",
    "\n",
    "print(\"Positive accuracy = {}% via {} samples\".format(pos_correct/pos_count*100.0, pos_count))\n",
    "print(\"Negative accuracy = {}% via {} samples\".format(neg_correct/neg_count*100.0, neg_count))"
   ]
  },
  {
   "cell_type": "markdown",
   "metadata": {},
   "source": [
    "### Hmm, well that's better than random I guess, but not something we want to see. What if we play with the subjectivity though? Maybe we can only look at reviews that we feel are more objective?"
   ]
  },
  {
   "cell_type": "code",
   "execution_count": 9,
   "metadata": {},
   "outputs": [
    {
     "name": "stdout",
     "output_type": "stream",
     "text": [
      "Positive accuracy = 70.46771523178808% via 4832 samples\n",
      "Negative accuracy = 55.10121457489878% via 4940 samples\n"
     ]
    }
   ],
   "source": [
    "from textblob import TextBlob\n",
    "\n",
    "pos_count = 0\n",
    "pos_correct = 0\n",
    "\n",
    "with open(\"positive.txt\",\"r\") as f:\n",
    "    for line in f.read().split('\\n'):\n",
    "        analysis = TextBlob(line)\n",
    "\n",
    "        if analysis.sentiment.subjectivity < 0.9:\n",
    "            if analysis.sentiment.polarity > 0:\n",
    "                pos_correct += 1\n",
    "            pos_count +=1\n",
    "\n",
    "\n",
    "neg_count = 0\n",
    "neg_correct = 0\n",
    "\n",
    "with open(\"negative.txt\",\"r\") as f:\n",
    "    for line in f.read().split('\\n'):\n",
    "        analysis = TextBlob(line)\n",
    "        if analysis.sentiment.subjectivity < 0.9:\n",
    "            if analysis.sentiment.polarity <= 0:\n",
    "                neg_correct += 1\n",
    "            neg_count +=1\n",
    "\n",
    "print(\"Positive accuracy = {}% via {} samples\".format(pos_correct/pos_count*100.0, pos_count))\n",
    "print(\"Negative accuracy = {}% via {} samples\".format(neg_correct/neg_count*100.0, neg_count))"
   ]
  },
  {
   "cell_type": "markdown",
   "metadata": {},
   "source": [
    "#### Interesting, I must not understand subjectivity. Interestingly, if we require subjectivity to be BELOW 0.1, I get: \n",
    "#### Positive accuracy = 2.914389799635701% via 549 samples Negative accuracy = 98.1159420289855% via 690 samples [Finished in 6.5s]"
   ]
  },
  {
   "cell_type": "markdown",
   "metadata": {},
   "source": [
    "# As we are not Concerned About Neutral Sentiments we can skip the center part and can ignore polarity between -0.5 < polarity < 0.5.\n",
    "\n",
    "### But Doing So our number of sample we are testing will get reduced!"
   ]
  },
  {
   "cell_type": "code",
   "execution_count": 10,
   "metadata": {},
   "outputs": [
    {
     "name": "stdout",
     "output_type": "stream",
     "text": [
      "Positive accuracy = 100.0% via 766 samples\n",
      "Negative accuracy = 100.0% via 282 samples\n"
     ]
    }
   ],
   "source": [
    "from textblob import TextBlob\n",
    "\n",
    "pos_count = 0\n",
    "pos_correct = 0\n",
    "\n",
    "with open(\"positive.txt\",\"r\") as f:\n",
    "    for line in f.read().split('\\n'):\n",
    "        analysis = TextBlob(line)\n",
    "\n",
    "        if analysis.sentiment.polarity >= 0.5:\n",
    "            if analysis.sentiment.polarity > 0:\n",
    "                pos_correct += 1\n",
    "            pos_count +=1\n",
    "\n",
    "\n",
    "neg_count = 0\n",
    "neg_correct = 0\n",
    "\n",
    "with open(\"negative.txt\",\"r\") as f:\n",
    "    for line in f.read().split('\\n'):\n",
    "        analysis = TextBlob(line)\n",
    "        if analysis.sentiment.polarity <= -0.5:\n",
    "            if analysis.sentiment.polarity <= 0:\n",
    "                neg_correct += 1\n",
    "            neg_count +=1\n",
    "\n",
    "print(\"Positive accuracy = {}% via {} samples\".format(pos_correct/pos_count*100.0, pos_count))\n",
    "print(\"Negative accuracy = {}% via {} samples\".format(neg_correct/neg_count*100.0, neg_count))"
   ]
  },
  {
   "cell_type": "markdown",
   "metadata": {},
   "source": [
    "#### Hmm, okay so we lost a lot of samples, but got perfect accuracy. What if we change this threshold just a bit, let's go with 0.1 and -0.1 instead.\n",
    "\n",
    "#### Positive accuracy = 100.0% via 3310 samples\n",
    "#### Negative accuracy = 100.0% via 1499 samples [Finished in 6.5s]\n",
    "### Now Lets try with 0.00000001!"
   ]
  },
  {
   "cell_type": "code",
   "execution_count": 11,
   "metadata": {},
   "outputs": [
    {
     "name": "stdout",
     "output_type": "stream",
     "text": [
      "Positive accuracy = 100.0% via 3790 samples\n",
      "Negative accuracy = 100.0% via 2072 samples\n"
     ]
    }
   ],
   "source": [
    "from textblob import TextBlob\n",
    "\n",
    "pos_count = 0\n",
    "pos_correct = 0\n",
    "\n",
    "with open(\"positive.txt\",\"r\") as f:\n",
    "    for line in f.read().split('\\n'):\n",
    "        analysis = TextBlob(line)\n",
    "\n",
    "        if analysis.sentiment.polarity >= 0.000000000001:\n",
    "            if analysis.sentiment.polarity > 0:\n",
    "                pos_correct += 1\n",
    "            pos_count +=1\n",
    "\n",
    "\n",
    "neg_count = 0\n",
    "neg_correct = 0\n",
    "\n",
    "with open(\"negative.txt\",\"r\") as f:\n",
    "    for line in f.read().split('\\n'):\n",
    "        analysis = TextBlob(line)\n",
    "        if analysis.sentiment.polarity <= -0.000000000001:\n",
    "            if analysis.sentiment.polarity <= 0:\n",
    "                neg_correct += 1\n",
    "            neg_count +=1\n",
    "\n",
    "print(\"Positive accuracy = {}% via {} samples\".format(pos_correct/pos_count*100.0, pos_count))\n",
    "print(\"Negative accuracy = {}% via {} samples\".format(neg_correct/neg_count*100.0, neg_count))"
   ]
  },
  {
   "cell_type": "markdown",
   "metadata": {},
   "source": [
    "### Thus the Problem was with polarity=0 ! By Eliminating those sentiments our accuracy was very good."
   ]
  },
  {
   "cell_type": "code",
   "execution_count": 12,
   "metadata": {},
   "outputs": [],
   "source": [
    "from textblob import TextBlob\n",
    "\n",
    "analysis = TextBlob(\"the book ws good\")"
   ]
  },
  {
   "cell_type": "code",
   "execution_count": 13,
   "metadata": {},
   "outputs": [
    {
     "name": "stdout",
     "output_type": "stream",
     "text": [
      "Sentiment(polarity=0.7, subjectivity=0.6000000000000001)\n"
     ]
    }
   ],
   "source": [
    "print(analysis.sentiment)"
   ]
  },
  {
   "cell_type": "code",
   "execution_count": 15,
   "metadata": {},
   "outputs": [
    {
     "data": {
      "text/plain": [
       "0.7"
      ]
     },
     "execution_count": 15,
     "metadata": {},
     "output_type": "execute_result"
    }
   ],
   "source": [
    "analysis.sentiment.polarity"
   ]
  },
  {
   "cell_type": "code",
   "execution_count": null,
   "metadata": {},
   "outputs": [],
   "source": []
  }
 ],
 "metadata": {
  "kernelspec": {
   "display_name": "Python 3",
   "language": "python",
   "name": "python3"
  },
  "language_info": {
   "codemirror_mode": {
    "name": "ipython",
    "version": 3
   },
   "file_extension": ".py",
   "mimetype": "text/x-python",
   "name": "python",
   "nbconvert_exporter": "python",
   "pygments_lexer": "ipython3",
   "version": "3.6.9"
  },
  "pycharm": {
   "stem_cell": {
    "cell_type": "raw",
    "metadata": {
     "collapsed": false
    },
    "source": []
   }
  }
 },
 "nbformat": 4,
 "nbformat_minor": 4
}
